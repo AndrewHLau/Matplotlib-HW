{
 "cells": [
  {
   "cell_type": "markdown",
   "metadata": {},
   "source": [
    "## Observations and Insights"
   ]
  },
  {
   "cell_type": "markdown",
   "metadata": {},
   "source": []
  },
  {
   "cell_type": "code",
   "execution_count": 1,
   "metadata": {},
   "outputs": [],
   "source": [
    "#Insight (1)\n",
    "#From the very first analysis of mean, median, standard deviation, and variance of tumor volume, we could already \n",
    "#start to see that Ramicane and Capomulin would be the best drugs.  They had the lowest mean/median and also the lowest\n",
    "#standard deviation/variance\n",
    "\n",
    "#Insight (2)\n",
    "#The Pie plots and bar charts show that each drug and each sex had a fair share of representation.  Out of 1893 rows in\n",
    "#the study, no drug had more than 230 and no less than 161. The sex split was close to 50/50.\n",
    "\n",
    "#Insight (3)\n",
    "#The deeper look at mouse l509 through the line chart showed the effectiveness of Capomulin on this one mouse.\n",
    "#Tumor volume decreased over time. After running the same line chart for s185. The result was even better"
   ]
  },
  {
   "cell_type": "markdown",
   "metadata": {},
   "source": [
    "## Dependencies and starter code"
   ]
  },
  {
   "cell_type": "code",
   "execution_count": 2,
   "metadata": {},
   "outputs": [],
   "source": [
    "# Dependencies and Setup\n",
    "import matplotlib.pyplot as plt\n",
    "import pandas as pd\n",
    "import scipy.stats as sem\n",
    "import statistics as stat\n",
    "import scipy as sc\n",
    "import numpy as np\n",
    "from scipy.stats import linregress\n",
    "\n",
    "# Study data files\n",
    "mouse_metadata = \"data/Mouse_metadata.csv\"\n",
    "study_results = \"data/Study_results.csv\"\n",
    "\n",
    "# Read the mouse data and the study results\n",
    "mouse_metadata = pd.read_csv(mouse_metadata)\n",
    "study_results = pd.read_csv(study_results)\n",
    "\n"
   ]
  },
  {
   "cell_type": "code",
   "execution_count": 3,
   "metadata": {},
   "outputs": [
    {
     "data": {
      "text/html": [
       "<div>\n",
       "<style scoped>\n",
       "    .dataframe tbody tr th:only-of-type {\n",
       "        vertical-align: middle;\n",
       "    }\n",
       "\n",
       "    .dataframe tbody tr th {\n",
       "        vertical-align: top;\n",
       "    }\n",
       "\n",
       "    .dataframe thead th {\n",
       "        text-align: right;\n",
       "    }\n",
       "</style>\n",
       "<table border=\"1\" class=\"dataframe\">\n",
       "  <thead>\n",
       "    <tr style=\"text-align: right;\">\n",
       "      <th></th>\n",
       "      <th>Mouse ID</th>\n",
       "      <th>Timepoint</th>\n",
       "      <th>Tumor Volume (mm3)</th>\n",
       "      <th>Metastatic Sites</th>\n",
       "    </tr>\n",
       "  </thead>\n",
       "  <tbody>\n",
       "    <tr>\n",
       "      <th>0</th>\n",
       "      <td>b128</td>\n",
       "      <td>0</td>\n",
       "      <td>45.000000</td>\n",
       "      <td>0</td>\n",
       "    </tr>\n",
       "    <tr>\n",
       "      <th>1</th>\n",
       "      <td>f932</td>\n",
       "      <td>0</td>\n",
       "      <td>45.000000</td>\n",
       "      <td>0</td>\n",
       "    </tr>\n",
       "    <tr>\n",
       "      <th>2</th>\n",
       "      <td>g107</td>\n",
       "      <td>0</td>\n",
       "      <td>45.000000</td>\n",
       "      <td>0</td>\n",
       "    </tr>\n",
       "    <tr>\n",
       "      <th>3</th>\n",
       "      <td>a457</td>\n",
       "      <td>0</td>\n",
       "      <td>45.000000</td>\n",
       "      <td>0</td>\n",
       "    </tr>\n",
       "    <tr>\n",
       "      <th>4</th>\n",
       "      <td>c819</td>\n",
       "      <td>0</td>\n",
       "      <td>45.000000</td>\n",
       "      <td>0</td>\n",
       "    </tr>\n",
       "    <tr>\n",
       "      <th>...</th>\n",
       "      <td>...</td>\n",
       "      <td>...</td>\n",
       "      <td>...</td>\n",
       "      <td>...</td>\n",
       "    </tr>\n",
       "    <tr>\n",
       "      <th>1888</th>\n",
       "      <td>r944</td>\n",
       "      <td>45</td>\n",
       "      <td>41.581521</td>\n",
       "      <td>2</td>\n",
       "    </tr>\n",
       "    <tr>\n",
       "      <th>1889</th>\n",
       "      <td>u364</td>\n",
       "      <td>45</td>\n",
       "      <td>31.023923</td>\n",
       "      <td>3</td>\n",
       "    </tr>\n",
       "    <tr>\n",
       "      <th>1890</th>\n",
       "      <td>p438</td>\n",
       "      <td>45</td>\n",
       "      <td>61.433892</td>\n",
       "      <td>1</td>\n",
       "    </tr>\n",
       "    <tr>\n",
       "      <th>1891</th>\n",
       "      <td>x773</td>\n",
       "      <td>45</td>\n",
       "      <td>58.634971</td>\n",
       "      <td>4</td>\n",
       "    </tr>\n",
       "    <tr>\n",
       "      <th>1892</th>\n",
       "      <td>b879</td>\n",
       "      <td>45</td>\n",
       "      <td>72.555239</td>\n",
       "      <td>2</td>\n",
       "    </tr>\n",
       "  </tbody>\n",
       "</table>\n",
       "<p>1893 rows × 4 columns</p>\n",
       "</div>"
      ],
      "text/plain": [
       "     Mouse ID  Timepoint  Tumor Volume (mm3)  Metastatic Sites\n",
       "0        b128          0           45.000000                 0\n",
       "1        f932          0           45.000000                 0\n",
       "2        g107          0           45.000000                 0\n",
       "3        a457          0           45.000000                 0\n",
       "4        c819          0           45.000000                 0\n",
       "...       ...        ...                 ...               ...\n",
       "1888     r944         45           41.581521                 2\n",
       "1889     u364         45           31.023923                 3\n",
       "1890     p438         45           61.433892                 1\n",
       "1891     x773         45           58.634971                 4\n",
       "1892     b879         45           72.555239                 2\n",
       "\n",
       "[1893 rows x 4 columns]"
      ]
     },
     "execution_count": 3,
     "metadata": {},
     "output_type": "execute_result"
    }
   ],
   "source": [
    "study_results"
   ]
  },
  {
   "cell_type": "code",
   "execution_count": 4,
   "metadata": {},
   "outputs": [
    {
     "data": {
      "text/html": [
       "<div>\n",
       "<style scoped>\n",
       "    .dataframe tbody tr th:only-of-type {\n",
       "        vertical-align: middle;\n",
       "    }\n",
       "\n",
       "    .dataframe tbody tr th {\n",
       "        vertical-align: top;\n",
       "    }\n",
       "\n",
       "    .dataframe thead th {\n",
       "        text-align: right;\n",
       "    }\n",
       "</style>\n",
       "<table border=\"1\" class=\"dataframe\">\n",
       "  <thead>\n",
       "    <tr style=\"text-align: right;\">\n",
       "      <th></th>\n",
       "      <th>Mouse ID</th>\n",
       "      <th>Drug Regimen</th>\n",
       "      <th>Sex</th>\n",
       "      <th>Age_months</th>\n",
       "      <th>Weight (g)</th>\n",
       "    </tr>\n",
       "  </thead>\n",
       "  <tbody>\n",
       "    <tr>\n",
       "      <th>0</th>\n",
       "      <td>k403</td>\n",
       "      <td>Ramicane</td>\n",
       "      <td>Male</td>\n",
       "      <td>21</td>\n",
       "      <td>16</td>\n",
       "    </tr>\n",
       "    <tr>\n",
       "      <th>1</th>\n",
       "      <td>s185</td>\n",
       "      <td>Capomulin</td>\n",
       "      <td>Female</td>\n",
       "      <td>3</td>\n",
       "      <td>17</td>\n",
       "    </tr>\n",
       "    <tr>\n",
       "      <th>2</th>\n",
       "      <td>x401</td>\n",
       "      <td>Capomulin</td>\n",
       "      <td>Female</td>\n",
       "      <td>16</td>\n",
       "      <td>15</td>\n",
       "    </tr>\n",
       "    <tr>\n",
       "      <th>3</th>\n",
       "      <td>m601</td>\n",
       "      <td>Capomulin</td>\n",
       "      <td>Male</td>\n",
       "      <td>22</td>\n",
       "      <td>17</td>\n",
       "    </tr>\n",
       "    <tr>\n",
       "      <th>4</th>\n",
       "      <td>g791</td>\n",
       "      <td>Ramicane</td>\n",
       "      <td>Male</td>\n",
       "      <td>11</td>\n",
       "      <td>16</td>\n",
       "    </tr>\n",
       "    <tr>\n",
       "      <th>...</th>\n",
       "      <td>...</td>\n",
       "      <td>...</td>\n",
       "      <td>...</td>\n",
       "      <td>...</td>\n",
       "      <td>...</td>\n",
       "    </tr>\n",
       "    <tr>\n",
       "      <th>244</th>\n",
       "      <td>z314</td>\n",
       "      <td>Stelasyn</td>\n",
       "      <td>Female</td>\n",
       "      <td>21</td>\n",
       "      <td>28</td>\n",
       "    </tr>\n",
       "    <tr>\n",
       "      <th>245</th>\n",
       "      <td>z435</td>\n",
       "      <td>Propriva</td>\n",
       "      <td>Female</td>\n",
       "      <td>12</td>\n",
       "      <td>26</td>\n",
       "    </tr>\n",
       "    <tr>\n",
       "      <th>246</th>\n",
       "      <td>z581</td>\n",
       "      <td>Infubinol</td>\n",
       "      <td>Female</td>\n",
       "      <td>24</td>\n",
       "      <td>25</td>\n",
       "    </tr>\n",
       "    <tr>\n",
       "      <th>247</th>\n",
       "      <td>z795</td>\n",
       "      <td>Naftisol</td>\n",
       "      <td>Female</td>\n",
       "      <td>13</td>\n",
       "      <td>29</td>\n",
       "    </tr>\n",
       "    <tr>\n",
       "      <th>248</th>\n",
       "      <td>z969</td>\n",
       "      <td>Naftisol</td>\n",
       "      <td>Male</td>\n",
       "      <td>9</td>\n",
       "      <td>30</td>\n",
       "    </tr>\n",
       "  </tbody>\n",
       "</table>\n",
       "<p>249 rows × 5 columns</p>\n",
       "</div>"
      ],
      "text/plain": [
       "    Mouse ID Drug Regimen     Sex  Age_months  Weight (g)\n",
       "0       k403     Ramicane    Male          21          16\n",
       "1       s185    Capomulin  Female           3          17\n",
       "2       x401    Capomulin  Female          16          15\n",
       "3       m601    Capomulin    Male          22          17\n",
       "4       g791     Ramicane    Male          11          16\n",
       "..       ...          ...     ...         ...         ...\n",
       "244     z314     Stelasyn  Female          21          28\n",
       "245     z435     Propriva  Female          12          26\n",
       "246     z581    Infubinol  Female          24          25\n",
       "247     z795     Naftisol  Female          13          29\n",
       "248     z969     Naftisol    Male           9          30\n",
       "\n",
       "[249 rows x 5 columns]"
      ]
     },
     "execution_count": 4,
     "metadata": {},
     "output_type": "execute_result"
    }
   ],
   "source": [
    "mouse_metadata "
   ]
  },
  {
   "cell_type": "markdown",
   "metadata": {},
   "source": [
    "## Summary statistics"
   ]
  },
  {
   "cell_type": "code",
   "execution_count": 5,
   "metadata": {
    "scrolled": true
   },
   "outputs": [
    {
     "data": {
      "text/html": [
       "<div>\n",
       "<style scoped>\n",
       "    .dataframe tbody tr th:only-of-type {\n",
       "        vertical-align: middle;\n",
       "    }\n",
       "\n",
       "    .dataframe tbody tr th {\n",
       "        vertical-align: top;\n",
       "    }\n",
       "\n",
       "    .dataframe thead th {\n",
       "        text-align: right;\n",
       "    }\n",
       "</style>\n",
       "<table border=\"1\" class=\"dataframe\">\n",
       "  <thead>\n",
       "    <tr style=\"text-align: right;\">\n",
       "      <th></th>\n",
       "      <th>Mouse ID</th>\n",
       "      <th>Drug Regimen</th>\n",
       "      <th>Sex</th>\n",
       "      <th>Age_months</th>\n",
       "      <th>Weight (g)</th>\n",
       "      <th>Timepoint</th>\n",
       "      <th>Tumor Volume (mm3)</th>\n",
       "      <th>Metastatic Sites</th>\n",
       "    </tr>\n",
       "  </thead>\n",
       "  <tbody>\n",
       "    <tr>\n",
       "      <th>0</th>\n",
       "      <td>k403</td>\n",
       "      <td>Ramicane</td>\n",
       "      <td>Male</td>\n",
       "      <td>21</td>\n",
       "      <td>16</td>\n",
       "      <td>0</td>\n",
       "      <td>45.000000</td>\n",
       "      <td>0</td>\n",
       "    </tr>\n",
       "    <tr>\n",
       "      <th>1</th>\n",
       "      <td>k403</td>\n",
       "      <td>Ramicane</td>\n",
       "      <td>Male</td>\n",
       "      <td>21</td>\n",
       "      <td>16</td>\n",
       "      <td>5</td>\n",
       "      <td>38.825898</td>\n",
       "      <td>0</td>\n",
       "    </tr>\n",
       "    <tr>\n",
       "      <th>2</th>\n",
       "      <td>k403</td>\n",
       "      <td>Ramicane</td>\n",
       "      <td>Male</td>\n",
       "      <td>21</td>\n",
       "      <td>16</td>\n",
       "      <td>10</td>\n",
       "      <td>35.014271</td>\n",
       "      <td>1</td>\n",
       "    </tr>\n",
       "    <tr>\n",
       "      <th>3</th>\n",
       "      <td>k403</td>\n",
       "      <td>Ramicane</td>\n",
       "      <td>Male</td>\n",
       "      <td>21</td>\n",
       "      <td>16</td>\n",
       "      <td>15</td>\n",
       "      <td>34.223992</td>\n",
       "      <td>1</td>\n",
       "    </tr>\n",
       "    <tr>\n",
       "      <th>4</th>\n",
       "      <td>k403</td>\n",
       "      <td>Ramicane</td>\n",
       "      <td>Male</td>\n",
       "      <td>21</td>\n",
       "      <td>16</td>\n",
       "      <td>20</td>\n",
       "      <td>32.997729</td>\n",
       "      <td>1</td>\n",
       "    </tr>\n",
       "    <tr>\n",
       "      <th>...</th>\n",
       "      <td>...</td>\n",
       "      <td>...</td>\n",
       "      <td>...</td>\n",
       "      <td>...</td>\n",
       "      <td>...</td>\n",
       "      <td>...</td>\n",
       "      <td>...</td>\n",
       "      <td>...</td>\n",
       "    </tr>\n",
       "    <tr>\n",
       "      <th>1888</th>\n",
       "      <td>z969</td>\n",
       "      <td>Naftisol</td>\n",
       "      <td>Male</td>\n",
       "      <td>9</td>\n",
       "      <td>30</td>\n",
       "      <td>25</td>\n",
       "      <td>63.145652</td>\n",
       "      <td>2</td>\n",
       "    </tr>\n",
       "    <tr>\n",
       "      <th>1889</th>\n",
       "      <td>z969</td>\n",
       "      <td>Naftisol</td>\n",
       "      <td>Male</td>\n",
       "      <td>9</td>\n",
       "      <td>30</td>\n",
       "      <td>30</td>\n",
       "      <td>65.841013</td>\n",
       "      <td>3</td>\n",
       "    </tr>\n",
       "    <tr>\n",
       "      <th>1890</th>\n",
       "      <td>z969</td>\n",
       "      <td>Naftisol</td>\n",
       "      <td>Male</td>\n",
       "      <td>9</td>\n",
       "      <td>30</td>\n",
       "      <td>35</td>\n",
       "      <td>69.176246</td>\n",
       "      <td>4</td>\n",
       "    </tr>\n",
       "    <tr>\n",
       "      <th>1891</th>\n",
       "      <td>z969</td>\n",
       "      <td>Naftisol</td>\n",
       "      <td>Male</td>\n",
       "      <td>9</td>\n",
       "      <td>30</td>\n",
       "      <td>40</td>\n",
       "      <td>70.314904</td>\n",
       "      <td>4</td>\n",
       "    </tr>\n",
       "    <tr>\n",
       "      <th>1892</th>\n",
       "      <td>z969</td>\n",
       "      <td>Naftisol</td>\n",
       "      <td>Male</td>\n",
       "      <td>9</td>\n",
       "      <td>30</td>\n",
       "      <td>45</td>\n",
       "      <td>73.867845</td>\n",
       "      <td>4</td>\n",
       "    </tr>\n",
       "  </tbody>\n",
       "</table>\n",
       "<p>1893 rows × 8 columns</p>\n",
       "</div>"
      ],
      "text/plain": [
       "     Mouse ID Drug Regimen   Sex  Age_months  Weight (g)  Timepoint  \\\n",
       "0        k403     Ramicane  Male          21          16          0   \n",
       "1        k403     Ramicane  Male          21          16          5   \n",
       "2        k403     Ramicane  Male          21          16         10   \n",
       "3        k403     Ramicane  Male          21          16         15   \n",
       "4        k403     Ramicane  Male          21          16         20   \n",
       "...       ...          ...   ...         ...         ...        ...   \n",
       "1888     z969     Naftisol  Male           9          30         25   \n",
       "1889     z969     Naftisol  Male           9          30         30   \n",
       "1890     z969     Naftisol  Male           9          30         35   \n",
       "1891     z969     Naftisol  Male           9          30         40   \n",
       "1892     z969     Naftisol  Male           9          30         45   \n",
       "\n",
       "      Tumor Volume (mm3)  Metastatic Sites  \n",
       "0              45.000000                 0  \n",
       "1              38.825898                 0  \n",
       "2              35.014271                 1  \n",
       "3              34.223992                 1  \n",
       "4              32.997729                 1  \n",
       "...                  ...               ...  \n",
       "1888           63.145652                 2  \n",
       "1889           65.841013                 3  \n",
       "1890           69.176246                 4  \n",
       "1891           70.314904                 4  \n",
       "1892           73.867845                 4  \n",
       "\n",
       "[1893 rows x 8 columns]"
      ]
     },
     "execution_count": 5,
     "metadata": {},
     "output_type": "execute_result"
    }
   ],
   "source": [
    "# Combine the data into a single dataset\n",
    "# Merge the two datasets on \"Mouse Data\" so that no data is lost 1893 rows just like the study results.\n",
    "mouse_study_df = pd.merge(mouse_metadata, study_results,\n",
    "                                 how='outer', on='Mouse ID')\n",
    "mouse_study_df"
   ]
  },
  {
   "cell_type": "code",
   "execution_count": 6,
   "metadata": {},
   "outputs": [],
   "source": [
    "# Export file as a CSV, without the Pandas index, but with the header\n",
    "mouse_study_df.to_csv(\"Output/mousestudy.csv\", index=False, header=True)"
   ]
  },
  {
   "cell_type": "code",
   "execution_count": 7,
   "metadata": {},
   "outputs": [],
   "source": [
    "# Generate a summary statistics table of mean, median, variance, standard deviation, and SEM of the tumor volume \n",
    "# for each regimen\n",
    "ramicane = mouse_study_df.loc[mouse_study_df['Drug Regimen'] == \"Ramicane\"]\n",
    "ramicane_vol = ramicane['Tumor Volume (mm3)']\n",
    "mean_ramicane_vol = np.mean(ramicane_vol)\n",
    "med_ramicane_vol = np.median(ramicane_vol)\n",
    "var_ramicane_vol = np.var(ramicane_vol,ddof = 0)\n",
    "std_ramicane_vol = np.std(ramicane_vol,ddof = 0)"
   ]
  },
  {
   "cell_type": "code",
   "execution_count": 8,
   "metadata": {},
   "outputs": [],
   "source": [
    "capomulin = mouse_study_df.loc[mouse_study_df['Drug Regimen'] == \"Capomulin\"]\n",
    "capomulin_vol = capomulin['Tumor Volume (mm3)']\n",
    "mean_capomulin_vol = np.mean(capomulin_vol)\n",
    "med_capomulin_vol = np.median(capomulin_vol)\n",
    "var_capomulin_vol = np.var(capomulin_vol,ddof = 0)\n",
    "std_capomulin_vol = np.std(capomulin_vol,ddof = 0)"
   ]
  },
  {
   "cell_type": "code",
   "execution_count": 9,
   "metadata": {},
   "outputs": [],
   "source": [
    "infubinol = mouse_study_df.loc[mouse_study_df['Drug Regimen'] == \"Infubinol\"]\n",
    "infubinol_vol = infubinol['Tumor Volume (mm3)']\n",
    "mean_infubinol_vol = np.mean(infubinol_vol)\n",
    "med_infubinol_vol = np.median(infubinol_vol)\n",
    "var_infubinol_vol = np.var(infubinol_vol,ddof = 0)\n",
    "std_infubinol_vol = np.std(infubinol_vol,ddof = 0)"
   ]
  },
  {
   "cell_type": "code",
   "execution_count": 10,
   "metadata": {},
   "outputs": [],
   "source": [
    "placebo = mouse_study_df.loc[mouse_study_df['Drug Regimen'] == \"Placebo\"]\n",
    "placebo_vol = placebo['Tumor Volume (mm3)']\n",
    "mean_placebo_vol = np.mean(placebo_vol)\n",
    "med_placebo_vol = np.median(placebo_vol)\n",
    "var_placebo_vol = np.var(placebo_vol,ddof = 0)\n",
    "std_placebo_vol = np.std(placebo_vol,ddof = 0)"
   ]
  },
  {
   "cell_type": "code",
   "execution_count": 11,
   "metadata": {},
   "outputs": [],
   "source": [
    "ceftamin = mouse_study_df.loc[mouse_study_df['Drug Regimen'] == \"Ceftamin\"]\n",
    "ceftamin_vol = ceftamin['Tumor Volume (mm3)']\n",
    "mean_ceftamin_vol = np.mean(ceftamin_vol)\n",
    "med_ceftamin_vol = np.median(ceftamin_vol)\n",
    "var_ceftamin_vol = np.var(ceftamin_vol,ddof = 0)\n",
    "std_ceftamin_vol = np.std(ceftamin_vol,ddof = 0)"
   ]
  },
  {
   "cell_type": "code",
   "execution_count": 12,
   "metadata": {},
   "outputs": [],
   "source": [
    "stelasyn = mouse_study_df.loc[mouse_study_df['Drug Regimen'] == \"Stelasyn\"]\n",
    "stelasyn_vol = stelasyn['Tumor Volume (mm3)']\n",
    "mean_stelasyn_vol = np.mean(stelasyn_vol)\n",
    "med_stelasyn_vol = np.median(stelasyn_vol)\n",
    "var_stelasyn_vol = np.var(stelasyn_vol,ddof = 0)\n",
    "std_stelasyn_vol = np.std(stelasyn_vol,ddof = 0)"
   ]
  },
  {
   "cell_type": "code",
   "execution_count": 13,
   "metadata": {},
   "outputs": [],
   "source": [
    "zoniferol = mouse_study_df.loc[mouse_study_df['Drug Regimen'] == \"Zoniferol\"]\n",
    "zoniferol_vol = zoniferol['Tumor Volume (mm3)']\n",
    "mean_zoniferol_vol = np.mean(zoniferol_vol)\n",
    "med_zoniferol_vol = np.median(zoniferol_vol)\n",
    "var_zoniferol_vol = np.var(zoniferol_vol,ddof = 0)\n",
    "std_zoniferol_vol = np.std(zoniferol_vol,ddof = 0)"
   ]
  },
  {
   "cell_type": "code",
   "execution_count": 14,
   "metadata": {},
   "outputs": [],
   "source": [
    "ketapril = mouse_study_df.loc[mouse_study_df['Drug Regimen'] == \"Ketapril\"]\n",
    "ketapril_vol = ketapril['Tumor Volume (mm3)']\n",
    "mean_ketapril_vol = np.mean(ketapril_vol)\n",
    "med_ketapril_vol = np.median(ketapril_vol)\n",
    "var_ketapril_vol = np.var(ketapril_vol,ddof = 0)\n",
    "std_ketapril_vol = np.std(ketapril_vol,ddof = 0)"
   ]
  },
  {
   "cell_type": "code",
   "execution_count": 15,
   "metadata": {},
   "outputs": [],
   "source": [
    "propriva = mouse_study_df.loc[mouse_study_df['Drug Regimen'] == \"Propriva\"]\n",
    "propriva_vol = propriva['Tumor Volume (mm3)']\n",
    "mean_propriva_vol = np.mean(propriva_vol)\n",
    "med_propriva_vol = np.median(propriva_vol)\n",
    "var_propriva_vol = np.var(propriva_vol,ddof = 0)\n",
    "std_propriva_vol = np.std(propriva_vol,ddof = 0)"
   ]
  },
  {
   "cell_type": "code",
   "execution_count": 16,
   "metadata": {},
   "outputs": [],
   "source": [
    "naftisol = mouse_study_df.loc[mouse_study_df['Drug Regimen'] == \"Naftisol\"]\n",
    "naftisol_vol = naftisol['Tumor Volume (mm3)']\n",
    "mean_naftisol_vol = np.mean(naftisol_vol)\n",
    "med_naftisol_vol = np.median(naftisol_vol)\n",
    "var_naftisol_vol = np.var(naftisol_vol,ddof = 0)\n",
    "std_naftisol_vol = np.std(naftisol_vol,ddof = 0)"
   ]
  },
  {
   "cell_type": "code",
   "execution_count": 17,
   "metadata": {},
   "outputs": [
    {
     "data": {
      "text/html": [
       "<div>\n",
       "<style scoped>\n",
       "    .dataframe tbody tr th:only-of-type {\n",
       "        vertical-align: middle;\n",
       "    }\n",
       "\n",
       "    .dataframe tbody tr th {\n",
       "        vertical-align: top;\n",
       "    }\n",
       "\n",
       "    .dataframe thead th {\n",
       "        text-align: right;\n",
       "    }\n",
       "</style>\n",
       "<table border=\"1\" class=\"dataframe\">\n",
       "  <thead>\n",
       "    <tr style=\"text-align: right;\">\n",
       "      <th></th>\n",
       "      <th>Drug</th>\n",
       "      <th>Mean</th>\n",
       "      <th>Median</th>\n",
       "      <th>Variance</th>\n",
       "      <th>Standard Deviation</th>\n",
       "    </tr>\n",
       "  </thead>\n",
       "  <tbody>\n",
       "    <tr>\n",
       "      <th>0</th>\n",
       "      <td>Ramicane</td>\n",
       "      <td>40.216745</td>\n",
       "      <td>40.673236</td>\n",
       "      <td>23.383692</td>\n",
       "      <td>4.835669</td>\n",
       "    </tr>\n",
       "    <tr>\n",
       "      <th>1</th>\n",
       "      <td>Capomulin</td>\n",
       "      <td>40.675741</td>\n",
       "      <td>41.557809</td>\n",
       "      <td>24.839296</td>\n",
       "      <td>4.983904</td>\n",
       "    </tr>\n",
       "    <tr>\n",
       "      <th>2</th>\n",
       "      <td>Infubinol</td>\n",
       "      <td>52.884795</td>\n",
       "      <td>51.820584</td>\n",
       "      <td>42.886388</td>\n",
       "      <td>6.548770</td>\n",
       "    </tr>\n",
       "    <tr>\n",
       "      <th>3</th>\n",
       "      <td>Placebo</td>\n",
       "      <td>54.033581</td>\n",
       "      <td>52.288934</td>\n",
       "      <td>60.830138</td>\n",
       "      <td>7.799368</td>\n",
       "    </tr>\n",
       "    <tr>\n",
       "      <th>4</th>\n",
       "      <td>Ceftamin</td>\n",
       "      <td>52.591172</td>\n",
       "      <td>51.776157</td>\n",
       "      <td>39.069446</td>\n",
       "      <td>6.250556</td>\n",
       "    </tr>\n",
       "    <tr>\n",
       "      <th>5</th>\n",
       "      <td>Stelasyn</td>\n",
       "      <td>54.233149</td>\n",
       "      <td>52.431737</td>\n",
       "      <td>59.122106</td>\n",
       "      <td>7.689090</td>\n",
       "    </tr>\n",
       "    <tr>\n",
       "      <th>6</th>\n",
       "      <td>Zoniferol</td>\n",
       "      <td>53.236507</td>\n",
       "      <td>51.818479</td>\n",
       "      <td>48.266689</td>\n",
       "      <td>6.947423</td>\n",
       "    </tr>\n",
       "    <tr>\n",
       "      <th>7</th>\n",
       "      <td>Ketapril</td>\n",
       "      <td>55.235638</td>\n",
       "      <td>53.698743</td>\n",
       "      <td>68.188930</td>\n",
       "      <td>8.257659</td>\n",
       "    </tr>\n",
       "    <tr>\n",
       "      <th>8</th>\n",
       "      <td>Propriva</td>\n",
       "      <td>52.322552</td>\n",
       "      <td>50.854632</td>\n",
       "      <td>42.088020</td>\n",
       "      <td>6.487528</td>\n",
       "    </tr>\n",
       "    <tr>\n",
       "      <th>9</th>\n",
       "      <td>Naftisol</td>\n",
       "      <td>54.331565</td>\n",
       "      <td>52.509285</td>\n",
       "      <td>65.817708</td>\n",
       "      <td>8.112811</td>\n",
       "    </tr>\n",
       "  </tbody>\n",
       "</table>\n",
       "</div>"
      ],
      "text/plain": [
       "        Drug       Mean     Median   Variance  Standard Deviation\n",
       "0   Ramicane  40.216745  40.673236  23.383692            4.835669\n",
       "1  Capomulin  40.675741  41.557809  24.839296            4.983904\n",
       "2  Infubinol  52.884795  51.820584  42.886388            6.548770\n",
       "3    Placebo  54.033581  52.288934  60.830138            7.799368\n",
       "4   Ceftamin  52.591172  51.776157  39.069446            6.250556\n",
       "5   Stelasyn  54.233149  52.431737  59.122106            7.689090\n",
       "6  Zoniferol  53.236507  51.818479  48.266689            6.947423\n",
       "7   Ketapril  55.235638  53.698743  68.188930            8.257659\n",
       "8   Propriva  52.322552  50.854632  42.088020            6.487528\n",
       "9   Naftisol  54.331565  52.509285  65.817708            8.112811"
      ]
     },
     "execution_count": 17,
     "metadata": {},
     "output_type": "execute_result"
    }
   ],
   "source": [
    "# Convert a single dictionary containing lists into a dataframe\n",
    "drug_df = pd.DataFrame(\n",
    "    {\"Drug\": [\"Ramicane\",\"Capomulin\",\"Infubinol\",\"Placebo\",\"Ceftamin\",\"Stelasyn\",\"Zoniferol\",\"Ketapril\",\"Propriva\",\"Naftisol\"],\n",
    "    \"Mean\": [mean_ramicane_vol,mean_capomulin_vol,mean_infubinol_vol,mean_placebo_vol,mean_ceftamin_vol,\n",
    "            mean_stelasyn_vol,mean_zoniferol_vol,mean_ketapril_vol,mean_propriva_vol,mean_naftisol_vol],\n",
    "    \"Median\": [med_ramicane_vol,med_capomulin_vol,med_infubinol_vol,med_placebo_vol,med_ceftamin_vol,\n",
    "            med_stelasyn_vol,med_zoniferol_vol,med_ketapril_vol,med_propriva_vol,med_naftisol_vol],\n",
    "    \"Variance\": [var_ramicane_vol,var_capomulin_vol,var_infubinol_vol,var_placebo_vol,var_ceftamin_vol,\n",
    "            var_stelasyn_vol,var_zoniferol_vol,var_ketapril_vol,var_propriva_vol,var_naftisol_vol],\n",
    "    \"Standard Deviation\": [std_ramicane_vol,std_capomulin_vol,std_infubinol_vol,std_placebo_vol,std_ceftamin_vol,\n",
    "            std_stelasyn_vol,std_zoniferol_vol,std_ketapril_vol,std_propriva_vol,std_naftisol_vol]}\n",
    ")\n",
    "drug_df"
   ]
  },
  {
   "cell_type": "code",
   "execution_count": 18,
   "metadata": {},
   "outputs": [],
   "source": [
    "# Export file as a CSV, without the Pandas index, but with the header\n",
    "drug_df.to_csv(\"Output/drug.csv\", index=False, header=True)"
   ]
  },
  {
   "cell_type": "markdown",
   "metadata": {},
   "source": [
    "## Bar plots"
   ]
  },
  {
   "cell_type": "code",
   "execution_count": 19,
   "metadata": {},
   "outputs": [
    {
     "data": {
      "text/plain": [
       "[228, 230, 178, 181, 178, 181, 182, 188, 161, 186]"
      ]
     },
     "execution_count": 19,
     "metadata": {},
     "output_type": "execute_result"
    }
   ],
   "source": [
    "tests = [len(ramicane_vol), len(capomulin_vol),len(infubinol_vol),len(placebo_vol),len(ceftamin_vol),\n",
    "        len(stelasyn_vol),len(zoniferol_vol),len(ketapril_vol),len(propriva_vol),len(naftisol_vol),]\n",
    "tests"
   ]
  },
  {
   "cell_type": "code",
   "execution_count": 20,
   "metadata": {},
   "outputs": [
    {
     "data": {
      "text/plain": [
       "array([0, 1, 2, 3, 4, 5, 6, 7, 8, 9])"
      ]
     },
     "execution_count": 20,
     "metadata": {},
     "output_type": "execute_result"
    }
   ],
   "source": [
    "# Create an array that contains the number of tests each drug has\n",
    "x_axis = np.arange(len(drug_df['Drug']))\n",
    "x_axis"
   ]
  },
  {
   "cell_type": "code",
   "execution_count": 21,
   "metadata": {},
   "outputs": [
    {
     "data": {
      "text/html": [
       "<div>\n",
       "<style scoped>\n",
       "    .dataframe tbody tr th:only-of-type {\n",
       "        vertical-align: middle;\n",
       "    }\n",
       "\n",
       "    .dataframe tbody tr th {\n",
       "        vertical-align: top;\n",
       "    }\n",
       "\n",
       "    .dataframe thead th {\n",
       "        text-align: right;\n",
       "    }\n",
       "</style>\n",
       "<table border=\"1\" class=\"dataframe\">\n",
       "  <thead>\n",
       "    <tr style=\"text-align: right;\">\n",
       "      <th></th>\n",
       "      <th>Drug</th>\n",
       "      <th>Tests</th>\n",
       "    </tr>\n",
       "  </thead>\n",
       "  <tbody>\n",
       "    <tr>\n",
       "      <th>0</th>\n",
       "      <td>Ramicane</td>\n",
       "      <td>228</td>\n",
       "    </tr>\n",
       "    <tr>\n",
       "      <th>1</th>\n",
       "      <td>Capomulin</td>\n",
       "      <td>230</td>\n",
       "    </tr>\n",
       "    <tr>\n",
       "      <th>2</th>\n",
       "      <td>Infubinol</td>\n",
       "      <td>178</td>\n",
       "    </tr>\n",
       "    <tr>\n",
       "      <th>3</th>\n",
       "      <td>Placebo</td>\n",
       "      <td>181</td>\n",
       "    </tr>\n",
       "    <tr>\n",
       "      <th>4</th>\n",
       "      <td>Ceftamin</td>\n",
       "      <td>178</td>\n",
       "    </tr>\n",
       "    <tr>\n",
       "      <th>5</th>\n",
       "      <td>Stelasyn</td>\n",
       "      <td>181</td>\n",
       "    </tr>\n",
       "    <tr>\n",
       "      <th>6</th>\n",
       "      <td>Zoniferol</td>\n",
       "      <td>182</td>\n",
       "    </tr>\n",
       "    <tr>\n",
       "      <th>7</th>\n",
       "      <td>Ketapril</td>\n",
       "      <td>188</td>\n",
       "    </tr>\n",
       "    <tr>\n",
       "      <th>8</th>\n",
       "      <td>Propriva</td>\n",
       "      <td>161</td>\n",
       "    </tr>\n",
       "    <tr>\n",
       "      <th>9</th>\n",
       "      <td>Naftisol</td>\n",
       "      <td>186</td>\n",
       "    </tr>\n",
       "  </tbody>\n",
       "</table>\n",
       "</div>"
      ],
      "text/plain": [
       "        Drug  Tests\n",
       "0   Ramicane    228\n",
       "1  Capomulin    230\n",
       "2  Infubinol    178\n",
       "3    Placebo    181\n",
       "4   Ceftamin    178\n",
       "5   Stelasyn    181\n",
       "6  Zoniferol    182\n",
       "7   Ketapril    188\n",
       "8   Propriva    161\n",
       "9   Naftisol    186"
      ]
     },
     "execution_count": 21,
     "metadata": {},
     "output_type": "execute_result"
    }
   ],
   "source": [
    "# Generate a bar plot showing number of data points for each treatment regimen using pandas\n",
    "drug_test_df= pd.DataFrame(\n",
    "    {\"Drug\": [\"Ramicane\",\"Capomulin\",\"Infubinol\",\"Placebo\",\"Ceftamin\",\"Stelasyn\",\"Zoniferol\",\n",
    "              \"Ketapril\",\"Propriva\",\"Naftisol\"],\n",
    "    \"Tests\": [len(ramicane_vol), len(capomulin_vol),len(infubinol_vol),len(placebo_vol),len(ceftamin_vol),\n",
    "        len(stelasyn_vol),len(zoniferol_vol),len(ketapril_vol),len(propriva_vol),len(naftisol_vol)]})\n",
    "\n",
    "drug_test_df"
   ]
  },
  {
   "cell_type": "code",
   "execution_count": 22,
   "metadata": {},
   "outputs": [
    {
     "data": {
      "image/png": "[encoded data removed]",
      "text/plain": [
       "<Figure size 504x432 with 1 Axes>"
      ]
     },
     "metadata": {
      "needs_background": "light"
     },
     "output_type": "display_data"
    }
   ],
   "source": [
    "drug_test_plot = drug_test_df.plot(kind=\"bar\", figsize=(7,6))\n",
    "#Tell matplotlib where we would like to place each of our x axis headers\n",
    "tick_locations = [value for value in x_axis]\n",
    "plt.xticks(tick_locations, [\"Ramicane\",\"Capomulin\",\"Infubinol\",\"Placebo\",\"Ceftamin\",\"Stelasyn\",\"Zoniferol\",\"Ketapril\",\n",
    "                            \"Propriva\",\"Naftisol\"])\n",
    "plt.xticks(rotation=20)\n",
    "# Give our chart some labels\n",
    "plt.xlabel(\"Drug Regimen\")\n",
    "plt.ylabel(\"Number of Data Points\")\n",
    "# Sets the x limits of the current chart\n",
    "plt.xlim(-0.75, len(x_axis)-0.25)\n",
    "plt.ylim(0, max(tests)+10)\n",
    "plt.savefig(\"Images/barchartpd.png\")"
   ]
  },
  {
   "cell_type": "code",
   "execution_count": 23,
   "metadata": {},
   "outputs": [
    {
     "data": {
      "image/png": "[encoded data removed]",
      "text/plain": [
       "<Figure size 432x288 with 1 Axes>"
      ]
     },
     "metadata": {
      "needs_background": "light"
     },
     "output_type": "display_data"
    }
   ],
   "source": [
    "# Generate a bar plot showing number of data points for each treatment regimen using pyplot\n",
    "plt.bar(x_axis, tests, color='b')\n",
    "#Tell matplotlib where we would like to place each of our x axis headers\n",
    "tick_locations = [value for value in x_axis]\n",
    "plt.xticks(tick_locations, [\"Ramicane\",\"Capomulin\",\"Infubinol\",\"Placebo\",\"Ceftamin\",\"Stelasyn\",\"Zoniferol\",\"Ketapril\",\n",
    "                            \"Propriva\",\"Naftisol\"])\n",
    "plt.xticks(rotation=20)\n",
    "# Give our chart some labels\n",
    "plt.xlabel(\"Drug Regimen\")\n",
    "plt.ylabel(\"Number of Data Points\")\n",
    "# Sets the x limits of the current chart\n",
    "plt.xlim(-0.75, len(x_axis)-0.25)\n",
    "plt.ylim(0, max(tests)+10)\n",
    "plt.savefig(\"Images/barchartplt.png\")"
   ]
  },
  {
   "cell_type": "markdown",
   "metadata": {},
   "source": [
    "## Pie plots"
   ]
  },
  {
   "cell_type": "code",
   "execution_count": 24,
   "metadata": {},
   "outputs": [],
   "source": [
    "male = mouse_study_df.loc[mouse_study_df['Sex'] == \"Male\"]\n",
    "female = mouse_study_df.loc[mouse_study_df['Sex'] == \"Female\"]"
   ]
  },
  {
   "cell_type": "code",
   "execution_count": 25,
   "metadata": {},
   "outputs": [
    {
     "data": {
      "text/html": [
       "<div>\n",
       "<style scoped>\n",
       "    .dataframe tbody tr th:only-of-type {\n",
       "        vertical-align: middle;\n",
       "    }\n",
       "\n",
       "    .dataframe tbody tr th {\n",
       "        vertical-align: top;\n",
       "    }\n",
       "\n",
       "    .dataframe thead th {\n",
       "        text-align: right;\n",
       "    }\n",
       "</style>\n",
       "<table border=\"1\" class=\"dataframe\">\n",
       "  <thead>\n",
       "    <tr style=\"text-align: right;\">\n",
       "      <th></th>\n",
       "      <th>Counts</th>\n",
       "    </tr>\n",
       "  </thead>\n",
       "  <tbody>\n",
       "    <tr>\n",
       "      <th>0</th>\n",
       "      <td>958</td>\n",
       "    </tr>\n",
       "    <tr>\n",
       "      <th>1</th>\n",
       "      <td>935</td>\n",
       "    </tr>\n",
       "  </tbody>\n",
       "</table>\n",
       "</div>"
      ],
      "text/plain": [
       "   Counts\n",
       "0     958\n",
       "1     935"
      ]
     },
     "execution_count": 25,
     "metadata": {},
     "output_type": "execute_result"
    }
   ],
   "source": [
    "# Generate a pie plot showing the distribution of female versus male mice using pandas\n",
    "sex_df= pd.DataFrame(\n",
    "    {\"Counts\": [len(male), len(female)]})\n",
    "\n",
    "sex_df"
   ]
  },
  {
   "cell_type": "code",
   "execution_count": 26,
   "metadata": {},
   "outputs": [
    {
     "data": {
      "image/png": "[encoded data removed]",
      "text/plain": [
       "<Figure size 432x288 with 1 Axes>"
      ]
     },
     "metadata": {},
     "output_type": "display_data"
    }
   ],
   "source": [
    "labels = [\"Males\", \"Females\"]\n",
    "sex_plot = sex_df.plot(kind='pie', labels=labels,\n",
    "        autopct=\"%1.1f%%\", shadow=True, startangle=30, subplots=True)\n",
    "plt.savefig(\"Images/piechartpd.png\")"
   ]
  },
  {
   "cell_type": "code",
   "execution_count": 27,
   "metadata": {},
   "outputs": [],
   "source": [
    "# Generate a pie plot showing the distribution of female versus male mice using pyplot\n",
    "# Labels for the sections of our pie chart\n",
    "labels = [\"Males\", \"Females\"]\n",
    "\n",
    "# The values of each section of the pie chart\n",
    "sizes = [len(male), len(female)]\n",
    "\n",
    "# The colors of each section of the pie chart\n",
    "colors = [\"red\", \"blue\"]"
   ]
  },
  {
   "cell_type": "code",
   "execution_count": 28,
   "metadata": {},
   "outputs": [
    {
     "data": {
      "image/png": "[encoded data removed]",
      "text/plain": [
       "<Figure size 432x288 with 1 Axes>"
      ]
     },
     "metadata": {},
     "output_type": "display_data"
    }
   ],
   "source": [
    "# Creates the pie chart based upon the values above\n",
    "# Automatically finds the percentages of each part of the pie chart\n",
    "plt.pie(sizes, labels=labels, colors=colors,\n",
    "        autopct=\"%1.1f%%\", shadow=True, startangle=30)\n",
    "# Tells matplotlib that we want a pie chart with equal axes\n",
    "plt.axis(\"equal\")\n",
    "\n",
    "plt.title(\"Sex\")\n",
    "plt.savefig(\"Images/piechartplt.png\")"
   ]
  },
  {
   "cell_type": "markdown",
   "metadata": {},
   "source": [
    "## Quartiles, outliers and boxplots"
   ]
  },
  {
   "cell_type": "code",
   "execution_count": 29,
   "metadata": {},
   "outputs": [
    {
     "name": "stdout",
     "output_type": "stream",
     "text": [
      "9355.42046243\n",
      "9169.41787521\n",
      "9413.49352933\n",
      "9361.228582110001\n"
     ]
    }
   ],
   "source": [
    "# Calculate the final tumor volume of each mouse across four of the most promising treatment regimens. \n",
    "#Capomulin, Ramicane, Infubinol, and Ceftamin\n",
    "\n",
    "capomulin_tot = capomulin_vol.sum()\n",
    "print(capomulin_tot)\n",
    "ramicane_tot = ramicane_vol.sum()\n",
    "print(ramicane_tot)\n",
    "infubinol_tot = infubinol_vol.sum()\n",
    "print(infubinol_tot)\n",
    "ceftamin_tot = ceftamin_vol.sum()\n",
    "print(ceftamin_tot)"
   ]
  },
  {
   "cell_type": "code",
   "execution_count": 30,
   "metadata": {},
   "outputs": [],
   "source": [
    "top4_df= pd.DataFrame(\n",
    "    {\"Drug\": [\"Ramicane\",\"Capomulin\",\"Infubinol\",\"Ceftamin\"],\n",
    "    \"Tests\": [ramicane_tot, capomulin_tot,infubinol_tot,ceftamin_tot,]})\n",
    "\n",
    "top4_df\n",
    "\n",
    "top4_df.to_csv(\"Output/top4_total.csv\", index=False, header=True)"
   ]
  },
  {
   "cell_type": "code",
   "execution_count": 31,
   "metadata": {},
   "outputs": [
    {
     "name": "stdout",
     "output_type": "stream",
     "text": [
      "Values below 24.18658646249998 could be outliers for Ramicane.\n",
      "Values above 57.48804812250001 could be outliers for Ramicane.\n"
     ]
    }
   ],
   "source": [
    "# Calculate the IQR and quantitatively determine if there are any potential outliers. \n",
    "quartiles = ramicane_vol.quantile([0.25,0.5,0.75])\n",
    "lowerq = quartiles[0.25]\n",
    "upperq = quartiles[0.75]\n",
    "iqr = upperq-lowerq\n",
    "\n",
    "lower_bound = lowerq - (1.5*iqr)\n",
    "upper_bound = upperq + (1.5*iqr)\n",
    "print(f\"Values below {lower_bound} could be outliers for Ramicane.\")\n",
    "print(f\"Values above {upper_bound} could be outliers for Ramicane.\")"
   ]
  },
  {
   "cell_type": "code",
   "execution_count": 32,
   "metadata": {},
   "outputs": [
    {
     "name": "stdout",
     "output_type": "stream",
     "text": [
      "Values below 26.714832162499995 could be outliers for Capumulin.\n",
      "Values above 55.9711007025 could be outliers for Capumulin.\n"
     ]
    }
   ],
   "source": [
    "# Calculate the IQR and quantitatively determine if there are any potential outliers. \n",
    "quartiles = capomulin_vol.quantile([0.25,0.5,0.75])\n",
    "lowerq = quartiles[0.25]\n",
    "upperq = quartiles[0.75]\n",
    "iqr = upperq-lowerq\n",
    "\n",
    "lower_bound = lowerq - (1.5*iqr)\n",
    "upper_bound = upperq + (1.5*iqr)\n",
    "print(f\"Values below {lower_bound} could be outliers for Capumulin.\")\n",
    "print(f\"Values above {upper_bound} could be outliers for Capumulin.\")"
   ]
  },
  {
   "cell_type": "code",
   "execution_count": 33,
   "metadata": {},
   "outputs": [
    {
     "name": "stdout",
     "output_type": "stream",
     "text": [
      "Values below 32.309217298749985 could be outliers for Infubinol.\n",
      "Values above 72.31757996875001 could be outliers for Infubinol.\n"
     ]
    }
   ],
   "source": [
    "# Calculate the IQR and quantitatively determine if there are any potential outliers. \n",
    "quartiles = infubinol_vol.quantile([0.25,0.5,0.75])\n",
    "lowerq = quartiles[0.25]\n",
    "upperq = quartiles[0.75]\n",
    "iqr = upperq-lowerq\n",
    "\n",
    "lower_bound = lowerq - (1.5*iqr)\n",
    "upper_bound = upperq + (1.5*iqr)\n",
    "print(f\"Values below {lower_bound} could be outliers for Infubinol.\")\n",
    "print(f\"Values above {upper_bound} could be outliers for Infubinol.\")"
   ]
  },
  {
   "cell_type": "code",
   "execution_count": 34,
   "metadata": {},
   "outputs": [
    {
     "name": "stdout",
     "output_type": "stream",
     "text": [
      "Values below 32.818911426250004 could be outliers for Ceftamin.\n",
      "Values above 71.19095325625 could be outliers for Ceftamin.\n"
     ]
    }
   ],
   "source": [
    "# Calculate the IQR and quantitatively determine if there are any potential outliers. \n",
    "quartiles = ceftamin_vol.quantile([0.25,0.5,0.75])\n",
    "lowerq = quartiles[0.25]\n",
    "upperq = quartiles[0.75]\n",
    "iqr = upperq-lowerq\n",
    "\n",
    "lower_bound = lowerq - (1.5*iqr)\n",
    "upper_bound = upperq + (1.5*iqr)\n",
    "print(f\"Values below {lower_bound} could be outliers for Ceftamin.\")\n",
    "print(f\"Values above {upper_bound} could be outliers for Ceftamin.\")"
   ]
  },
  {
   "cell_type": "code",
   "execution_count": 35,
   "metadata": {},
   "outputs": [
    {
     "data": {
      "image/png": "[encoded data removed]",
      "text/plain": [
       "<Figure size 432x288 with 1 Axes>"
      ]
     },
     "metadata": {
      "needs_background": "light"
     },
     "output_type": "display_data"
    }
   ],
   "source": [
    "# Example outlier plot of Final Tumor Volume\n",
    "fig1, ax1 = plt.subplots()\n",
    "ax1.set_ylabel('Final Tumor Volume (mm3)')\n",
    "ax1.boxplot([capomulin_vol,ramicane_vol,infubinol_vol,ceftamin_vol])\n",
    "#Tell matplotlib where we would like to place each of our x axis headers\n",
    "x_axis2 = [1,2,3,4]\n",
    "tick_locations = [value for value in x_axis2]\n",
    "plt.xticks(tick_locations, [\"Capomulin\",\"Ramicane\",\"Infubinol\",\"Ceftamin\"])\n",
    "plt.savefig(\"Images/BoxPlot.png\")"
   ]
  },
  {
   "cell_type": "markdown",
   "metadata": {},
   "source": [
    "## Line and scatter plots"
   ]
  },
  {
   "cell_type": "code",
   "execution_count": 36,
   "metadata": {},
   "outputs": [
    {
     "data": {
      "image/png": "[encoded data removed]",
      "text/plain": [
       "<Figure size 432x288 with 1 Axes>"
      ]
     },
     "metadata": {
      "needs_background": "light"
     },
     "output_type": "display_data"
    }
   ],
   "source": [
    "# Generate a line plot of time point versus tumor volume for a mouse treated with Capomulin\n",
    "l509 = mouse_study_df.loc[mouse_study_df['Mouse ID'] == \"l509\"]\n",
    "l509_vol = l509['Tumor Volume (mm3)']\n",
    "\n",
    "x_axis3 = [0,5,10,15,20,25,30,35,40,45]\n",
    "# Create a graph based upon the two lists we have created\n",
    "plt.xlabel(\"Timepoint (Days)\")\n",
    "plt.ylabel(\"Tumor Volume (mm3)\")\n",
    "plt.title(\"Capomulin Treatment of Mouse l509\")\n",
    "plt.plot(x_axis3, l509_vol)\n",
    "plt.savefig(\"Images/Line_l509.png\")"
   ]
  },
  {
   "cell_type": "code",
   "execution_count": 37,
   "metadata": {},
   "outputs": [
    {
     "data": {
      "image/png": "[encoded data removed]",
      "text/plain": [
       "<Figure size 432x288 with 1 Axes>"
      ]
     },
     "metadata": {
      "needs_background": "light"
     },
     "output_type": "display_data"
    }
   ],
   "source": [
    "# Generate a line plot of time point versus tumor volume for a mouse treated with Capomulin\n",
    "s185 = mouse_study_df.loc[mouse_study_df['Mouse ID'] == \"s185\"]\n",
    "s185_vol = s185['Tumor Volume (mm3)']\n",
    "\n",
    "x_axis3 = [0,5,10,15,20,25,30,35,40,45]\n",
    "# Create a graph based upon the two lists we have created\n",
    "plt.xlabel(\"Timepoint (Days)\")\n",
    "plt.ylabel(\"Tumor Volume (mm3)\")\n",
    "plt.title(\"Capomulin Treatment of Mouse s185\")\n",
    "plt.plot(x_axis3, s185_vol)\n",
    "plt.savefig(\"Images/Line_s185.png\")"
   ]
  },
  {
   "cell_type": "code",
   "execution_count": 38,
   "metadata": {},
   "outputs": [
    {
     "data": {
      "image/png": "[encoded data removed]",
      "text/plain": [
       "<Figure size 432x288 with 1 Axes>"
      ]
     },
     "metadata": {
      "needs_background": "light"
     },
     "output_type": "display_data"
    }
   ],
   "source": [
    "# Generate a scatter plot of mouse weight versus average tumor volume for the Capomulin regimen\n",
    "x_values = capomulin['Weight (g)']\n",
    "y_values = capomulin['Tumor Volume (mm3)']\n",
    "plt.scatter(x_values,y_values)\n",
    "plt.xlabel('weight (g)')\n",
    "plt.ylabel('Average Tumor Volume (mm3)')\n",
    "plt.savefig(\"Images/Tumor_weight.png\")"
   ]
  },
  {
   "cell_type": "code",
   "execution_count": 39,
   "metadata": {},
   "outputs": [
    {
     "name": "stdout",
     "output_type": "stream",
     "text": [
      "The r-squared is: 0.27636002234559165\n"
     ]
    },
    {
     "data": {
      "image/png": "[encoded data removed]",
      "text/plain": [
       "<Figure size 432x288 with 1 Axes>"
      ]
     },
     "metadata": {
      "needs_background": "light"
     },
     "output_type": "display_data"
    }
   ],
   "source": [
    "# Calculate the correlation coefficient and linear regression model for mouse weight and \n",
    "# average tumor volume for the Capomulin regimen\n",
    "x_values = capomulin['Weight (g)']\n",
    "y_values = capomulin['Tumor Volume (mm3)']\n",
    "(slope, intercept, rvalue, pvalue, stderr) = linregress(x_values, y_values)\n",
    "regress_values = x_values * slope + intercept\n",
    "line_eq = \"y = \" + str(round(slope,2)) + \"x + \" + str(round(intercept,2))\n",
    "plt.scatter(x_values,y_values)\n",
    "plt.plot(x_values,regress_values,\"r-\")\n",
    "plt.annotate(line_eq,(6,10),fontsize=15,color=\"red\")\n",
    "plt.xlabel('Weight (g)')\n",
    "plt.ylabel('Average Tumor Volume (mm3)')\n",
    "\n",
    "print(f\"The r-squared is: {rvalue**2}\")\n",
    "\n",
    "plt.savefig(\"Images/Tumor_weight_regr.png\")"
   ]
  }
 ],
 "metadata": {
  "anaconda-cloud": {},
  "kernelspec": {
   "display_name": "Python 3",
   "language": "python",
   "name": "python3"
  },
  "language_info": {
   "codemirror_mode": {
    "name": "ipython",
    "version": 3
   },
   "file_extension": ".py",
   "mimetype": "text/x-python",
   "name": "python",
   "nbconvert_exporter": "python",
   "pygments_lexer": "ipython3",
   "version": "3.6.10"
  }
 },
 "nbformat": 4,
 "nbformat_minor": 2
}
